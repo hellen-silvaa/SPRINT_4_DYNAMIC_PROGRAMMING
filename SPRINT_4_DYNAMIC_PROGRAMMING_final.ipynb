{
  "nbformat": 4,
  "nbformat_minor": 0,
  "metadata": {
    "colab": {
      "provenance": []
    },
    "kernelspec": {
      "name": "python3",
      "display_name": "Python 3"
    },
    "language_info": {
      "name": "python"
    }
  },
  "cells": [
    {
      "cell_type": "code",
      "execution_count": 2,
      "metadata": {
        "id": "UegEI3uTGt-u"
      },
      "outputs": [],
      "source": [
        "# ===================================================================\n",
        "#                             2ESR\n",
        "#          558385 - Alexia Ramalho Izidio Dos Santos\n",
        "#          554746 - Beatriz Vieira de Novais\n",
        "#          559008 - Hellen Aparecida Moura Silva\n",
        "#          557397 - Lorenzo Adinolfi Acquesta\n",
        "#          558859 - Wendell Dos Santos Silva\n",
        "# ==================================================================="
      ]
    },
    {
      "cell_type": "code",
      "source": [
        "import sys\n",
        "\n",
        "# --- Configuração do Problema ---\n",
        "\n",
        "# Para \"melhorar a visibilidade\", assumimos que a empresa Visalytica agora\n",
        "# tem uma PREVISÃO de demanda para os próximos T dias.\n",
        "# Esta previsão pode ser obtida da análise de dados\n",
        "# históricos (coletados na Sprint 3).\n",
        "\n",
        "# T = 12 dias de horizonte de planejamento\n",
        "demands = [20, 10, 0, 30, 15, 5, 0, 10, 40, 5, 15, 25]\n",
        "T = len(demands)\n",
        "\n",
        "# Custos\n",
        "K = 100  # Custo fixo por PEDIDO (frete, administrativo)\n",
        "h = 2    # Custo de ESTOQUE (por unidade, por dia)\n",
        "\n",
        "# Ajuste do limite de recursão para a versão recursiva pura\n",
        "sys.setrecursionlimit(2000)"
      ],
      "metadata": {
        "id": "mOmhp1pyGyaw"
      },
      "execution_count": 4,
      "outputs": []
    },
    {
      "cell_type": "code",
      "source": [
        "print(\"=\"*50)\n",
        "print(f\"Iniciando Simulação de Otimização de Estoque\")\n",
        "print(f\"Horizonte de Planejamento: {T} dias\")\n",
        "print(f\"Custo Fixo por Pedido (K): R$ {K}\")\n",
        "print(f\"Custo de Estoque (h): R$ {h} por unidade/dia\")\n",
        "print(f\"Demandas Previstas: {demands}\")\n",
        "print(\"=\"*50)"
      ],
      "metadata": {
        "colab": {
          "base_uri": "https://localhost:8080/"
        },
        "id": "op1k-jQtG_rx",
        "outputId": "a51c6765-c684-419c-d2c4-152efbdabef0"
      },
      "execution_count": 5,
      "outputs": [
        {
          "output_type": "stream",
          "name": "stdout",
          "text": [
            "==================================================\n",
            "Iniciando Simulação de Otimização de Estoque\n",
            "Horizonte de Planejamento: 12 dias\n",
            "Custo Fixo por Pedido (K): R$ 100\n",
            "Custo de Estoque (h): R$ 2 por unidade/dia\n",
            "Demandas Previstas: [20, 10, 0, 30, 15, 5, 0, 10, 40, 5, 15, 25]\n",
            "==================================================\n"
          ]
        }
      ]
    },
    {
      "cell_type": "code",
      "source": [
        "# --- 2. Versão Recursiva Pura (Top-Down) ---\n",
        "\n",
        "def calculate_holding_cost(t, j, demands, h):\n",
        "    \"\"\"Calcula o custo de estoque de um pedido feito em 't' para cobrir até 'j'\"\"\"\n",
        "    cost = 0\n",
        "    # O item do dia 't' não tem custo de estoque (é consumido).\n",
        "    # O item do dia 't+1' fica 1 dia em estoque.\n",
        "    # O item do dia 't+2' fica 2 dias em estoque.\n",
        "    for i in range(t + 1, j + 1):\n",
        "        cost += h * (i - t) * demands[i]\n",
        "    return cost\n",
        "\n",
        "def solve_recursive(t):\n",
        "    # Caso Base: Se estamos no dia T ou além, o custo é 0.\n",
        "    if t >= T:\n",
        "        return 0\n",
        "\n",
        "    min_cost = float('inf')\n",
        "\n",
        "    # Decisão: Tentar todas as possibilidades de 'j' (dia final de cobertura)\n",
        "    for j in range(t, T):\n",
        "        # 1. Custo fixo do pedido\n",
        "        order_cost = K\n",
        "\n",
        "        # 2. Custo de estoque para este pedido\n",
        "        holding_cost = calculate_holding_cost(t, j, demands, h)\n",
        "\n",
        "        # 3. Custo futuro (recursão para o próximo período após 'j')\n",
        "        future_cost = solve_recursive(t = j + 1)\n",
        "\n",
        "        # Custo total para ESTA decisão (t, j)\n",
        "        current_cost = order_cost + holding_cost + future_cost\n",
        "\n",
        "        if current_cost < min_cost:\n",
        "            min_cost = current_cost\n",
        "\n",
        "    return min_cost"
      ],
      "metadata": {
        "id": "UiP2-92QHG5C"
      },
      "execution_count": 6,
      "outputs": []
    },
    {
      "cell_type": "code",
      "source": [
        "# --- 3. Versão com Memorização (Top-Down DP) ---\n",
        "\n",
        "# Dicionário 'memo' para armazenar resultados já calculados\n",
        "memo = {}\n",
        "\n",
        "def solve_memo(t):\n",
        "    # Caso Base\n",
        "    if t >= T:\n",
        "        return 0\n",
        "\n",
        "    # Se já calculamos C(t), retorna o valor salvo\n",
        "    if t in memo:\n",
        "        return memo[t]\n",
        "\n",
        "    min_cost = float('inf')\n",
        "\n",
        "    # Decisão: Tentar todas as possibilidades de 'j'\n",
        "    for j in range(t, T):\n",
        "        order_cost = K\n",
        "        holding_cost = calculate_holding_cost(t, j, demands, h)\n",
        "\n",
        "        # Custo futuro (usando a versão com memorização)\n",
        "        future_cost = solve_memo(t = j + 1)\n",
        "\n",
        "        current_cost = order_cost + holding_cost + future_cost\n",
        "\n",
        "        if current_cost < min_cost:\n",
        "            min_cost = current_cost\n",
        "\n",
        "    # Armazena o resultado de C(t) antes de retornar\n",
        "    memo[t] = min_cost\n",
        "    return min_cost"
      ],
      "metadata": {
        "id": "fY8AvET5HJhj"
      },
      "execution_count": 7,
      "outputs": []
    },
    {
      "cell_type": "code",
      "source": [
        "# --- 4. Versão Iterativa (Bottom-Up DP) ---\n",
        "\n",
        "def solve_bottom_up():\n",
        "    # dp[t] = custo mínimo para os dias t...T-1\n",
        "    # Precisamos de T+1 posições, pois dp[T] é o caso base.\n",
        "    dp = [0] * (T + 1)\n",
        "\n",
        "    # policy[t] = armazena qual 'j' foi a decisão ótima para o dia 't'\n",
        "    policy = [0] * T\n",
        "\n",
        "    # Preenchemos a tabela dp DE TRÁS PARA FRENTE\n",
        "    # Começamos em T-1 (último dia) e vamos até 0 (primeiro dia)\n",
        "    for t in range(T - 1, -1, -1):\n",
        "\n",
        "        min_cost = float('inf')\n",
        "        best_j = t # A melhor decisão 'j' encontrada para este 't'\n",
        "\n",
        "        # Decisão: Tentar todas as possibilidades de 'j' (de t até T-1)\n",
        "        for j in range(t, T):\n",
        "            order_cost = K\n",
        "            holding_cost = calculate_holding_cost(t, j, demands, h)\n",
        "\n",
        "            # Custo futuro vem da tabela 'dp' que já foi preenchida\n",
        "            future_cost = dp[j + 1]\n",
        "\n",
        "            current_cost = order_cost + holding_cost + future_cost\n",
        "\n",
        "            if current_cost < min_cost:\n",
        "                min_cost = current_cost\n",
        "                best_j = j\n",
        "\n",
        "        # Armazena o custo mínimo para o dia 't'\n",
        "        dp[t] = min_cost\n",
        "        # Armazena a política (decisão) ótima para o dia 't'\n",
        "        policy[t] = best_j\n",
        "\n",
        "    # O resultado final é o custo para o dia 0\n",
        "    return dp[0], policy"
      ],
      "metadata": {
        "id": "XQK3gW2JHM8G"
      },
      "execution_count": 8,
      "outputs": []
    },
    {
      "cell_type": "code",
      "source": [
        "# --- 5. Função para Reconstruir a Política de Pedidos ---\n",
        "\n",
        "def print_policy(policy, demands):\n",
        "    print(\"\\n--- Política de Pedidos Otimizada ---\")\n",
        "    t = 0\n",
        "    while t < T:\n",
        "        j = policy[t]\n",
        "        quantity = sum(demands[i] for i in range(t, j + 1))\n",
        "\n",
        "        if quantity > 0:\n",
        "            print(f\"• Dia {t+1}: Fazer pedido de {quantity} unidades.\")\n",
        "            print(f\"  (Este pedido cobre a demanda dos dias {t+1} a {j+1})\")\n",
        "        else:\n",
        "            print(f\"• Dia {t+1}: Nenhum pedido (demanda é 0 até dia {j+1}).\")\n",
        "\n",
        "        # O próximo dia para tomar uma decisão é j+1\n",
        "        t = j + 1\n",
        "    print(\"--------------------------------------\")"
      ],
      "metadata": {
        "id": "7TE02Pi1HNZm"
      },
      "execution_count": 9,
      "outputs": []
    },
    {
      "cell_type": "code",
      "source": [
        "# --- 6. Execução e Verificação ---\n",
        "\n",
        "print(\"\\n--- Executando Versões da PD ---\")\n",
        "\n",
        "# (A versão recursiva pura é muito lenta, pode ser comentada se T for grande)\n",
        "# print(\"Calculando (Recursivo)...\")\n",
        "# cost_rec = solve_recursive(0)\n",
        "# print(f\"Custo Mínimo (Recursivo): R$ {cost_rec}\")\n",
        "\n",
        "print(\"Calculando (Memorização)...\")\n",
        "cost_memo = solve_memo(0)\n",
        "print(f\"Custo Mínimo (Memorização): R$ {cost_memo}\")\n",
        "\n",
        "print(\"Calculando (Bottom-Up)...\")\n",
        "cost_bu, policy = solve_bottom_up()\n",
        "print(f\"Custo Mínimo (Bottom-Up): R$ {cost_bu}\")\n",
        "\n",
        "# Verificação\n",
        "# assert(cost_rec == cost_memo == cost_bu)\n",
        "assert(cost_memo == cost_bu)\n",
        "\n",
        "print(\"\\n[VERIFICAÇÃO] Todas as versões de PD produzem o mesmo resultado.\")\n",
        "\n",
        "# Exibe o plano de ação\n",
        "print_policy(policy, demands)"
      ],
      "metadata": {
        "id": "gq126YsVHO2D",
        "colab": {
          "base_uri": "https://localhost:8080/"
        },
        "outputId": "3b19c0d8-7f62-4d25-892a-144ec9e87b64"
      },
      "execution_count": 10,
      "outputs": [
        {
          "output_type": "stream",
          "name": "stdout",
          "text": [
            "\n",
            "--- Executando Versões da PD ---\n",
            "Calculando (Memorização)...\n",
            "Custo Mínimo (Memorização): R$ 610\n",
            "Calculando (Bottom-Up)...\n",
            "Custo Mínimo (Bottom-Up): R$ 610\n",
            "\n",
            "[VERIFICAÇÃO] Todas as versões de PD produzem o mesmo resultado.\n",
            "\n",
            "--- Política de Pedidos Otimizada ---\n",
            "• Dia 1: Fazer pedido de 30 unidades.\n",
            "  (Este pedido cobre a demanda dos dias 1 a 3)\n",
            "• Dia 4: Fazer pedido de 60 unidades.\n",
            "  (Este pedido cobre a demanda dos dias 4 a 8)\n",
            "• Dia 9: Fazer pedido de 45 unidades.\n",
            "  (Este pedido cobre a demanda dos dias 9 a 10)\n",
            "• Dia 11: Fazer pedido de 40 unidades.\n",
            "  (Este pedido cobre a demanda dos dias 11 a 12)\n",
            "--------------------------------------\n"
          ]
        }
      ]
    }
  ]
}